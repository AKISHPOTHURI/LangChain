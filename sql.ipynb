{
 "cells": [
  {
   "cell_type": "code",
   "execution_count": 1,
   "metadata": {},
   "outputs": [
    {
     "data": {
      "text/plain": [
       "'c:\\\\Users\\\\akish.pothuri\\\\python\\\\MedicalChatBot'"
      ]
     },
     "execution_count": 1,
     "metadata": {},
     "output_type": "execute_result"
    }
   ],
   "source": [
    "import os\n",
    "os.chdir('../')\n",
    "%pwd"
   ]
  },
  {
   "cell_type": "code",
   "execution_count": 2,
   "metadata": {},
   "outputs": [
    {
     "name": "stdout",
     "output_type": "stream",
     "text": [
      "Collecting pyodbc\n",
      "  Downloading pyodbc-5.1.0-cp38-cp38-win_amd64.whl.metadata (2.8 kB)\n",
      "Downloading pyodbc-5.1.0-cp38-cp38-win_amd64.whl (68 kB)\n",
      "   ---------------------------------------- 0.0/68.8 kB ? eta -:--:--\n",
      "   ---------------------------------------- 0.0/68.8 kB ? eta -:--:--\n",
      "   ----------------- ---------------------- 30.7/68.8 kB ? eta -:--:--\n",
      "   ---------------------------------------- 68.8/68.8 kB 622.5 kB/s eta 0:00:00\n",
      "Installing collected packages: pyodbc\n",
      "Successfully installed pyodbc-5.1.0\n",
      "Note: you may need to restart the kernel to use updated packages.\n"
     ]
    }
   ],
   "source": [
    "%pip install pyodbc"
   ]
  },
  {
   "cell_type": "code",
   "execution_count": null,
   "metadata": {},
   "outputs": [],
   "source": [
    "import pyodbc "
   ]
  },
  {
   "cell_type": "code",
   "execution_count": 19,
   "metadata": {},
   "outputs": [],
   "source": [
    "import pyodbc\n",
    "cnxn = pyodbc.connect(r'Driver=SQL Server;Server=GGKU4DELL1254;Database=projectcodefirst;Trusted_Connection=yes;')"
   ]
  },
  {
   "cell_type": "code",
   "execution_count": 25,
   "metadata": {},
   "outputs": [
    {
     "data": {
      "text/plain": [
       "<pyodbc.Cursor at 0x1e0725373b0>"
      ]
     },
     "execution_count": 25,
     "metadata": {},
     "output_type": "execute_result"
    }
   ],
   "source": [
    "cnxn.cursor()"
   ]
  },
  {
   "cell_type": "code",
   "execution_count": 9,
   "metadata": {},
   "outputs": [
    {
     "data": {
      "text/plain": [
       "<pyodbc.Cursor at 0x252932b81b0>"
      ]
     },
     "execution_count": 9,
     "metadata": {},
     "output_type": "execute_result"
    }
   ],
   "source": [
    "cursor = cnxn.cursor()\n",
    "cursor.execute(\"SELECT * FROM Employees\")"
   ]
  },
  {
   "cell_type": "code",
   "execution_count": 10,
   "metadata": {},
   "outputs": [],
   "source": [
    "row = cursor.fetchall()"
   ]
  },
  {
   "cell_type": "code",
   "execution_count": 11,
   "metadata": {},
   "outputs": [
    {
     "data": {
      "text/plain": [
       "[(1, 'Madhuaddon,addon', 1),\n",
       " (2, 'Aniladdon,addon', 2),\n",
       " (3, 'Amiraddon,addon', 3)]"
      ]
     },
     "execution_count": 11,
     "metadata": {},
     "output_type": "execute_result"
    }
   ],
   "source": [
    "row"
   ]
  },
  {
   "cell_type": "code",
   "execution_count": null,
   "metadata": {},
   "outputs": [],
   "source": []
  },
  {
   "cell_type": "code",
   "execution_count": null,
   "metadata": {},
   "outputs": [],
   "source": [
    "# pip install google-generativeai\n",
    "#pip install python-dotenv"
   ]
  },
  {
   "cell_type": "code",
   "execution_count": 5,
   "metadata": {},
   "outputs": [
    {
     "data": {
      "text/plain": [
       "True"
      ]
     },
     "execution_count": 5,
     "metadata": {},
     "output_type": "execute_result"
    }
   ],
   "source": [
    "import os\n",
    "from langchain.llms import GooglePalm\n",
    "from dotenv import load_dotenv \n",
    "load_dotenv()\n"
   ]
  },
  {
   "cell_type": "code",
   "execution_count": 8,
   "metadata": {},
   "outputs": [],
   "source": [
    "palm_key = os.getenv('api_key')"
   ]
  },
  {
   "cell_type": "code",
   "execution_count": 11,
   "metadata": {},
   "outputs": [],
   "source": [
    "llm = GooglePalm(google_api_key=palm_key, temperature=0.3)"
   ]
  },
  {
   "cell_type": "code",
   "execution_count": 13,
   "metadata": {},
   "outputs": [],
   "source": [
    "code = llm(\"Code to linear regression in machine learning algorithms\")"
   ]
  },
  {
   "cell_type": "code",
   "execution_count": 16,
   "metadata": {},
   "outputs": [],
   "source": [
    "code = llm(\"Fetch all from the Employees table\")"
   ]
  },
  {
   "cell_type": "code",
   "execution_count": 17,
   "metadata": {},
   "outputs": [
    {
     "name": "stdout",
     "output_type": "stream",
     "text": [
      "```sql\n",
      "SELECT *\n",
      "FROM Employees;\n",
      "```\n"
     ]
    }
   ],
   "source": [
    "print(code)"
   ]
  },
  {
   "cell_type": "code",
   "execution_count": 28,
   "metadata": {},
   "outputs": [],
   "source": [
    "from langchain.agents import create_sql_agent\n",
    "from langchain.agents.agent_toolkits import SQLDatabaseToolkit\n",
    "from langchain.agents.agent_types import AgentType\n",
    "from langchain.chat_models import ChatOpenAI\n",
    "from langchain.sql_database import SQLDatabase\n",
    "from langchain.prompts.chat import ChatPromptTemplate\n",
    "from sqlalchemy import create_engine"
   ]
  },
  {
   "cell_type": "code",
   "execution_count": 29,
   "metadata": {},
   "outputs": [
    {
     "name": "stdout",
     "output_type": "stream",
     "text": [
      "SQL Server\n",
      "SQL Server Native Client 11.0\n",
      "SQL Server Native Client RDA 11.0\n",
      "ODBC Driver 17 for SQL Server\n"
     ]
    }
   ],
   "source": [
    "# check the local ODBC driver and make sure it match with the traget database instance\n",
    "import pyodbc\n",
    "for driver in pyodbc.drivers():\n",
    "    print(driver)"
   ]
  },
  {
   "cell_type": "code",
   "execution_count": 34,
   "metadata": {},
   "outputs": [],
   "source": [
    "#windows authentication connection string.\n",
    "db = SQLDatabase.from_uri(\n",
    "    database_uri=\"mssql+pyodbc://[server]/[database]?driver=ODBC+Driver+17+for+SQL+Server&trusted_connection=yes\"\n",
    ")"
   ]
  },
  {
   "cell_type": "code",
   "execution_count": 35,
   "metadata": {},
   "outputs": [
    {
     "data": {
      "text/plain": [
       "[QuerySQLDataBaseTool(description=\"Input to this tool is a detailed and correct SQL query, output is a result from the database. If the query is not correct, an error message will be returned. If an error is returned, rewrite the query, check the query, and try again. If you encounter an issue with Unknown column 'xxxx' in 'field list', use sql_db_schema to query the correct table fields.\", db=<langchain_community.utilities.sql_database.SQLDatabase object at 0x000001E0727A0E80>),\n",
       " InfoSQLDatabaseTool(description='Input to this tool is a comma-separated list of tables, output is the schema and sample rows for those tables. Be sure that the tables actually exist by calling sql_db_list_tables first! Example Input: table1, table2, table3', db=<langchain_community.utilities.sql_database.SQLDatabase object at 0x000001E0727A0E80>),\n",
       " ListSQLDatabaseTool(db=<langchain_community.utilities.sql_database.SQLDatabase object at 0x000001E0727A0E80>),\n",
       " QuerySQLCheckerTool(description='Use this tool to double check if your query is correct before executing it. Always use this tool before executing a query with sql_db_query!', db=<langchain_community.utilities.sql_database.SQLDatabase object at 0x000001E0727A0E80>, llm=GooglePalm(client=<module 'google.generativeai' from 'c:\\\\Users\\\\akish.pothuri\\\\python\\\\LangChain\\\\langchain\\\\lib\\\\site-packages\\\\google\\\\generativeai\\\\__init__.py'>, google_api_key=SecretStr('**********'), temperature=0.3), llm_chain=LLMChain(prompt=PromptTemplate(input_variables=['dialect', 'query'], template='\\n{query}\\nDouble check the {dialect} query above for common mistakes, including:\\n- Using NOT IN with NULL values\\n- Using UNION when UNION ALL should have been used\\n- Using BETWEEN for exclusive ranges\\n- Data type mismatch in predicates\\n- Properly quoting identifiers\\n- Using the correct number of arguments for functions\\n- Casting to the correct data type\\n- Using the proper columns for joins\\n\\nIf there are any of the above mistakes, rewrite the query. If there are no mistakes, just reproduce the original query.\\n\\nOutput the final SQL query only.\\n\\nSQL Query: '), llm=GooglePalm(client=<module 'google.generativeai' from 'c:\\\\Users\\\\akish.pothuri\\\\python\\\\LangChain\\\\langchain\\\\lib\\\\site-packages\\\\google\\\\generativeai\\\\__init__.py'>, google_api_key=SecretStr('**********'), temperature=0.3)))]"
      ]
     },
     "execution_count": 35,
     "metadata": {},
     "output_type": "execute_result"
    }
   ],
   "source": [
    "sql_toolkit=SQLDatabaseToolkit(db=db,llm=llm)\n",
    "sql_toolkit.get_tools()"
   ]
  },
  {
   "cell_type": "code",
   "execution_count": 36,
   "metadata": {},
   "outputs": [
    {
     "name": "stdout",
     "output_type": "stream",
     "text": [
      "['Customer', 'Order', 'OrderItem', 'Product', 'Supplier']\n"
     ]
    },
    {
     "name": "stderr",
     "output_type": "stream",
     "text": [
      "c:\\Users\\akish.pothuri\\python\\LangChain\\langchain\\lib\\site-packages\\langchain_core\\_api\\deprecation.py:117: LangChainDeprecationWarning: The function `get_table_names` was deprecated in LangChain 0.0.1 and will be removed in 0.2.0. Use get_usable_table_name instead.\n",
      "  warn_deprecated(\n"
     ]
    }
   ],
   "source": [
    "print(db.get_table_names())"
   ]
  },
  {
   "cell_type": "code",
   "execution_count": 37,
   "metadata": {},
   "outputs": [
    {
     "name": "stdout",
     "output_type": "stream",
     "text": [
      "\n",
      "CREATE TABLE [Customer] (\n",
      "\t[Id] INTEGER NOT NULL IDENTITY(1,1), \n",
      "\t[FirstName] NVARCHAR(40) COLLATE SQL_Latin1_General_CP1_CI_AS NOT NULL, \n",
      "\t[LastName] NVARCHAR(40) COLLATE SQL_Latin1_General_CP1_CI_AS NOT NULL, \n",
      "\t[City] NVARCHAR(40) COLLATE SQL_Latin1_General_CP1_CI_AS NULL, \n",
      "\t[Country] NVARCHAR(40) COLLATE SQL_Latin1_General_CP1_CI_AS NULL, \n",
      "\t[Phone] NVARCHAR(20) COLLATE SQL_Latin1_General_CP1_CI_AS NULL, \n",
      "\tCONSTRAINT [PK_CUSTOMER] PRIMARY KEY ([Id])\n",
      ")\n",
      "\n",
      "/*\n",
      "3 rows from Customer table:\n",
      "Id\tFirstName\tLastName\tCity\tCountry\tPhone\n",
      "1\tMaria\tAnders\tBerlin\tGermany\t030-0074321\n",
      "2\tAna\tTrujillo\tMéxico D.F.\tMexico\t(5) 555-4729\n",
      "3\tAntonio\tMoreno\tMéxico D.F.\tMexico\t(5) 555-3932\n",
      "*/\n",
      "\n",
      "\n",
      "CREATE TABLE [OrderItem] (\n",
      "\t[Id] INTEGER NOT NULL IDENTITY(1,1), \n",
      "\t[OrderId] INTEGER NOT NULL, \n",
      "\t[ProductId] INTEGER NOT NULL, \n",
      "\t[UnitPrice] DECIMAL(12, 2) NOT NULL DEFAULT ((0)), \n",
      "\t[Quantity] INTEGER NOT NULL DEFAULT ((1)), \n",
      "\tCONSTRAINT [PK_ORDERITEM] PRIMARY KEY ([Id]), \n",
      "\tCONSTRAINT [FK_ORDERITE_REFERENCE_ORDER] FOREIGN KEY([OrderId]) REFERENCES [Order] ([Id]), \n",
      "\tCONSTRAINT [FK_ORDERITE_REFERENCE_PRODUCT] FOREIGN KEY([ProductId]) REFERENCES [Product] ([Id])\n",
      ")\n",
      "\n",
      "/*\n",
      "3 rows from OrderItem table:\n",
      "Id\tOrderId\tProductId\tUnitPrice\tQuantity\n",
      "1\t1\t11\t14.00\t12\n",
      "2\t1\t42\t9.80\t10\n",
      "3\t1\t72\t34.80\t5\n",
      "*/\n",
      "\n",
      "\n",
      "CREATE TABLE [Order] (\n",
      "\t[Id] INTEGER NOT NULL IDENTITY(1,1), \n",
      "\t[OrderDate] DATETIME NOT NULL DEFAULT (getdate()), \n",
      "\t[OrderNumber] NVARCHAR(10) COLLATE SQL_Latin1_General_CP1_CI_AS NULL, \n",
      "\t[CustomerId] INTEGER NOT NULL, \n",
      "\t[TotalAmount] DECIMAL(12, 2) NULL DEFAULT ((0)), \n",
      "\tCONSTRAINT [PK_ORDER] PRIMARY KEY ([Id]), \n",
      "\tCONSTRAINT [FK_ORDER_REFERENCE_CUSTOMER] FOREIGN KEY([CustomerId]) REFERENCES [Customer] ([Id])\n",
      ")\n",
      "\n",
      "/*\n",
      "3 rows from Order table:\n",
      "Id\tOrderDate\tOrderNumber\tCustomerId\tTotalAmount\n",
      "1\t2012-07-04 00:00:00\t542378\t85\t440.00\n",
      "2\t2012-07-05 00:00:00\t542379\t79\t1863.40\n",
      "3\t2012-07-08 00:00:00\t542380\t34\t1813.00\n",
      "*/\n",
      "\n",
      "\n",
      "CREATE TABLE [Product] (\n",
      "\t[Id] INTEGER NOT NULL IDENTITY(1,1), \n",
      "\t[ProductName] NVARCHAR(50) COLLATE SQL_Latin1_General_CP1_CI_AS NOT NULL, \n",
      "\t[SupplierId] INTEGER NOT NULL, \n",
      "\t[UnitPrice] DECIMAL(12, 2) NULL DEFAULT ((0)), \n",
      "\t[Package] NVARCHAR(30) COLLATE SQL_Latin1_General_CP1_CI_AS NULL, \n",
      "\t[IsDiscontinued] BIT NOT NULL DEFAULT ((0)), \n",
      "\tCONSTRAINT [PK_PRODUCT] PRIMARY KEY ([Id]), \n",
      "\tCONSTRAINT [FK_PRODUCT_REFERENCE_SUPPLIER] FOREIGN KEY([SupplierId]) REFERENCES [Supplier] ([Id])\n",
      ")\n",
      "\n",
      "/*\n",
      "3 rows from Product table:\n",
      "Id\tProductName\tSupplierId\tUnitPrice\tPackage\tIsDiscontinued\n",
      "1\tChai\t1\t18.00\t10 boxes x 20 bags\tFalse\n",
      "2\tChang\t1\t19.00\t24 - 12 oz bottles\tFalse\n",
      "3\tAniseed Syrup\t1\t10.00\t12 - 550 ml bottles\tFalse\n",
      "*/\n",
      "\n",
      "\n",
      "CREATE TABLE [Supplier] (\n",
      "\t[Id] INTEGER NOT NULL IDENTITY(1,1), \n",
      "\t[CompanyName] NVARCHAR(40) COLLATE SQL_Latin1_General_CP1_CI_AS NOT NULL, \n",
      "\t[ContactName] NVARCHAR(50) COLLATE SQL_Latin1_General_CP1_CI_AS NULL, \n",
      "\t[ContactTitle] NVARCHAR(40) COLLATE SQL_Latin1_General_CP1_CI_AS NULL, \n",
      "\t[City] NVARCHAR(40) COLLATE SQL_Latin1_General_CP1_CI_AS NULL, \n",
      "\t[Country] NVARCHAR(40) COLLATE SQL_Latin1_General_CP1_CI_AS NULL, \n",
      "\t[Phone] NVARCHAR(30) COLLATE SQL_Latin1_General_CP1_CI_AS NULL, \n",
      "\t[Fax] NVARCHAR(30) COLLATE SQL_Latin1_General_CP1_CI_AS NULL, \n",
      "\tCONSTRAINT [PK_SUPPLIER] PRIMARY KEY ([Id])\n",
      ")\n",
      "\n",
      "/*\n",
      "3 rows from Supplier table:\n",
      "Id\tCompanyName\tContactName\tContactTitle\tCity\tCountry\tPhone\tFax\n",
      "1\tExotic Liquids\tCharlotte Cooper\tNone\tLondon\tUK\t(171) 555-2222\tNone\n",
      "2\tNew Orleans Cajun Delights\tShelley Burke\tNone\tNew Orleans\tUSA\t(100) 555-4822\tNone\n",
      "3\tGrandma Kelly's Homestead\tRegina Murphy\tNone\tAnn Arbor\tUSA\t(313) 555-5735\t(313) 555-3349\n",
      "*/\n"
     ]
    }
   ],
   "source": [
    "print(db.get_table_info())"
   ]
  },
  {
   "cell_type": "code",
   "execution_count": 45,
   "metadata": {},
   "outputs": [
    {
     "name": "stdout",
     "output_type": "stream",
     "text": [
      "\n",
      "\n",
      "\u001b[1m> Entering new SQLDatabaseChain chain...\u001b[0m\n",
      "what is the total number of customers\n",
      "SQLQuery:\u001b[32;1m\u001b[1;3mSELECT COUNT(*) FROM Customer\u001b[0m\n",
      "SQLResult: \u001b[33;1m\u001b[1;3m[(91,)]\u001b[0m\n",
      "Answer:\u001b[32;1m\u001b[1;3m91\u001b[0m\n",
      "\u001b[1m> Finished chain.\u001b[0m\n"
     ]
    }
   ],
   "source": [
    "from langchain_experimental.sql import SQLDatabaseChain\n",
    "db_chain = SQLDatabaseChain.from_llm(llm, db, verbose=True)\n",
    "qns1 = db_chain(\"what is the total number of customers\")"
   ]
  },
  {
   "cell_type": "code",
   "execution_count": 46,
   "metadata": {},
   "outputs": [
    {
     "name": "stdout",
     "output_type": "stream",
     "text": [
      "\n",
      "\n",
      "\u001b[1m> Entering new SQLDatabaseChain chain...\u001b[0m\n",
      "what are the names of the customers from germany courntry?\n",
      "SQLQuery:\u001b[32;1m\u001b[1;3mSELECT FirstName, LastName FROM Customer WHERE Country = 'Germany'\u001b[0m\n",
      "SQLResult: \u001b[33;1m\u001b[1;3m[('Maria', 'Anders'), ('Hanna', 'Moos'), ('Sven', 'Ottlieb'), ('Peter', 'Franken'), ('Philip', 'Cramer'), ('Renate', 'Messner'), ('Alexander', 'Feuer'), ('Henriette', 'Pfalzheim'), ('Horst', 'Kloss'), ('Karin', 'Josephs'), ('Rita', 'Müller')]\u001b[0m\n",
      "Answer:\u001b[32;1m\u001b[1;3mMaria Anders, Hanna Moos, Sven Ottlieb, Peter Franken, Philip Cramer, Renate Messner, Alexander Feuer, Henriette Pfalzheim, Horst Kloss, Karin Josephs, Rita Müller\u001b[0m\n",
      "\u001b[1m> Finished chain.\u001b[0m\n"
     ]
    }
   ],
   "source": [
    "from langchain_experimental.sql import SQLDatabaseChain\n",
    "db_chain = SQLDatabaseChain.from_llm(llm, db, verbose=True)\n",
    "qns1 = db_chain(\"what are the names of the customers from germany courntry?\")"
   ]
  },
  {
   "cell_type": "code",
   "execution_count": 48,
   "metadata": {},
   "outputs": [
    {
     "name": "stdout",
     "output_type": "stream",
     "text": [
      "\n",
      "\n",
      "\u001b[1m> Entering new SQLDatabaseChain chain...\u001b[0m\n",
      "which company providing more products?\n",
      "SQLQuery:\u001b[32;1m\u001b[1;3mSELECT CompanyName FROM Supplier GROUP BY CompanyName ORDER BY COUNT(*) DESC\u001b[0m\n",
      "SQLResult: \u001b[33;1m\u001b[1;3m[('Aux joyeux ecclésiastiques',), ('Bigfoot Breweries',), (\"Cooperativa de Quesos 'Las Cabras'\",), ('Escargots Nouveaux',), ('Exotic Liquids',), (\"Forêts d'érables\",), ('Formaggi Fortini s.r.l.',), ('Gai pâturage',), (\"G'day, Mate\",), (\"Grandma Kelly's Homestead\",), ('Heli Süßwaren GmbH & Co. KG',), ('Karkki Oy',), ('Leka Trading',), ('Lyngbysild',), ('Ma Maison',), (\"Mayumi's\",), ('New England Seafood Cannery',), ('New Orleans Cajun Delights',), ('Nord-Ost-Fisch Handelsgesellschaft mbH',), ('Norske Meierier',), ('Pasta Buttini s.r.l.',), ('Pavlova, Ltd.',), ('PB Knäckebröd AB',), ('Plutzer Lebensmittelgroßmärkte AG',), ('Refrescos Americanas LTDA',), ('Specialty Biscuits, Ltd.',), ('Svensk Sjöföda AB',), ('Tokyo Traders',), ('Zaanse Snoepfabriek',)]\u001b[0m\n",
      "Answer:\u001b[32;1m\u001b[1;3mExotic Liquids\u001b[0m\n",
      "\u001b[1m> Finished chain.\u001b[0m\n"
     ]
    }
   ],
   "source": [
    "qns1 = db_chain(\"which company providing more products?\")\n"
   ]
  },
  {
   "cell_type": "code",
   "execution_count": null,
   "metadata": {},
   "outputs": [],
   "source": []
  }
 ],
 "metadata": {
  "kernelspec": {
   "display_name": "chain",
   "language": "python",
   "name": "python3"
  },
  "language_info": {
   "codemirror_mode": {
    "name": "ipython",
    "version": 3
   },
   "file_extension": ".py",
   "mimetype": "text/x-python",
   "name": "python",
   "nbconvert_exporter": "python",
   "pygments_lexer": "ipython3",
   "version": "3.8.10"
  }
 },
 "nbformat": 4,
 "nbformat_minor": 2
}
